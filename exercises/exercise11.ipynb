{
 "cells": [
  {
   "cell_type": "markdown",
   "metadata": {},
   "source": [
    "# Exercise 11 - Custom Resources\n",
    "\n",
    "**GOAL:** The goal of this exercise is to show how to use custom resources\n",
    "\n",
    "See the documentation on using Ray with custom resources http://ray.readthedocs.io/en/latest/resources.html#custom-resources.\n",
    "\n",
    "### Concepts for this Exercise - Using Custom Resources\n",
    "\n",
    "We've discussed how to specify a task's CPU and GPU requirements, but there are many other kinds of resources. For example, a task may require a dataset, which only lives on a few machines, or it may need to be scheduled on a machine with extra memory. These kinds of requirements can be expressed through the use of custom resources.\n",
    "\n",
    "Custom resources are most useful in the multi-machine setting. However, this exercise illustrates their usage in the single-machine setting.\n",
    "\n",
    "Ray can be started with a dictionary of custom resources (mapping resource name to resource quantity) as follows.\n",
    "\n",
    "```python\n",
    "ray.init(resources={'CustomResource1': 1, 'CustomResource2': 4})\n",
    "```\n",
    "\n",
    "The resource requirements of a remote function or actor can be specified in a similar way.\n",
    "\n",
    "```python\n",
    "@ray.remote(resources={'CustomResource2': 1})\n",
    "def f():\n",
    "    return 1\n",
    "```\n",
    "\n",
    "Even if there are many CPUs on the machine, only 4 copies of `f` can be executed concurrently.\n",
    "\n",
    "Custom resources give applications a great deal of flexibility. For example, if you wish to control precisely which machine a task gets scheduled on, you can simply start each machine with a different custom resource (e.g., start machine `n` with resource `Custom_n` and then tasks that should be scheduled on machine `n` can require resource `Custom_n`. However, this usage has drawbacks because it makes the code less portable and less resilient to machine failures."
   ]
  },
  {
   "cell_type": "code",
   "execution_count": 1,
   "metadata": {},
   "outputs": [],
   "source": [
    "from __future__ import absolute_import\n",
    "from __future__ import division\n",
    "from __future__ import print_function\n",
    "\n",
    "import ray\n",
    "import time"
   ]
  },
  {
   "cell_type": "markdown",
   "metadata": {},
   "source": [
    "In this exercise, we will start Ray using custom resources."
   ]
  },
  {
   "cell_type": "code",
   "execution_count": 2,
   "metadata": {},
   "outputs": [
    {
     "name": "stdout",
     "output_type": "stream",
     "text": [
      "Process STDOUT and STDERR is being redirected to /tmp/raylogs/.\n",
      "Waiting for redis server at 127.0.0.1:21212 to respond...\n",
      "Waiting for redis server at 127.0.0.1:39621 to respond...\n",
      "Starting local scheduler with the following resources: {'Custom1': 4, 'CPU': 8, 'GPU': 1}.\n",
      "\n",
      "======================================================================\n",
      "View the web UI at http://localhost:8889/notebooks/ray_ui52207.ipynb?token=a286d5e17d7e875a26bc46aafa783a43d15b26e61c9bbb86\n",
      "======================================================================\n",
      "\n"
     ]
    },
    {
     "data": {
      "text/plain": [
       "{'node_ip_address': '127.0.0.1',\n",
       " 'redis_address': '127.0.0.1:21212',\n",
       " 'object_store_addresses': [ObjectStoreAddress(name='/tmp/plasma_store36548791', manager_name='/tmp/plasma_manager89845422', manager_port=49494)],\n",
       " 'local_scheduler_socket_names': ['/tmp/scheduler98853418'],\n",
       " 'webui_url': 'http://localhost:8889/notebooks/ray_ui52207.ipynb?token=a286d5e17d7e875a26bc46aafa783a43d15b26e61c9bbb86'}"
      ]
     },
     "execution_count": 2,
     "metadata": {},
     "output_type": "execute_result"
    }
   ],
   "source": [
    "ray.init(num_cpus=8, resources={'Custom1': 4})"
   ]
  },
  {
   "cell_type": "markdown",
   "metadata": {},
   "source": [
    "**EXERCISE:** Modify the resource requirements of the remote functions below so that the following hold.\n",
    "- The number of concurrently executing tasks is at most 8 (note that there are 8 CPUs).\n",
    "- No more than 4 copies of `g` can execute concurrently.\n",
    "- If 4 `g` tasks are executing, then an additional 4 `f` tasks can execute.\n",
    "\n",
    "You should only need to use the `Custom1` resource."
   ]
  },
  {
   "cell_type": "code",
   "execution_count": 8,
   "metadata": {},
   "outputs": [],
   "source": [
    "@ray.remote(num_cpus=1)\n",
    "def f():\n",
    "    time.sleep(0.1)\n",
    "\n",
    "@ray.remote(resources={'Custom1': 1})\n",
    "def g():\n",
    "    time.sleep(0.1)"
   ]
  },
  {
   "cell_type": "markdown",
   "metadata": {},
   "source": [
    "If you did the above exercise correctly, the next cell should execute without raising an exception."
   ]
  },
  {
   "cell_type": "code",
   "execution_count": 9,
   "metadata": {},
   "outputs": [
    {
     "name": "stdout",
     "output_type": "stream",
     "text": [
      "Success!\n"
     ]
    }
   ],
   "source": [
    "start = time.time()\n",
    "ray.get([f.remote() for _ in range(8)])\n",
    "duration = time.time() - start \n",
    "assert duration >= 0.1 and duration < 0.19, '8 f tasks should be able to execute concurrently.'\n",
    "\n",
    "start = time.time()\n",
    "ray.get([f.remote() for _ in range(9)])\n",
    "duration = time.time() - start \n",
    "assert duration >= 0.2 and duration < 0.29, 'f tasks should not be able to execute concurrently.'\n",
    "\n",
    "start = time.time()\n",
    "ray.get([g.remote() for _ in range(4)])\n",
    "duration = time.time() - start \n",
    "assert duration >= 0.1 and duration < 0.19, '4 g tasks should be able to execute concurrently.'\n",
    "\n",
    "start = time.time()\n",
    "ray.get([g.remote() for _ in range(5)])\n",
    "duration = time.time() - start \n",
    "assert duration >= 0.2 and duration < 0.29, '5 g tasks should not be able to execute concurrently.'\n",
    "\n",
    "start = time.time()\n",
    "ray.get([f.remote() for _ in range(4)] + [g.remote() for _ in range(4)])\n",
    "duration = time.time() - start \n",
    "assert duration >= 0.1 and duration < 0.19, '4 f and 4 g tasks should be able to execute concurrently.'\n",
    "\n",
    "start = time.time()\n",
    "ray.get([f.remote() for _ in range(5)] + [g.remote() for _ in range(4)])\n",
    "duration = time.time() - start \n",
    "assert duration >= 0.2 and duration < 0.29, '5 f and 4 g tasks should not be able to execute concurrently.'\n",
    "\n",
    "print('Success!')"
   ]
  },
  {
   "cell_type": "code",
   "execution_count": 10,
   "metadata": {},
   "outputs": [
    {
     "data": {
      "application/vnd.jupyter.widget-view+json": {
       "model_id": "5166cd6ec4a74de6ba0735c67e15c80f"
      }
     },
     "metadata": {},
     "output_type": "display_data"
    },
    {
     "data": {
      "application/vnd.jupyter.widget-view+json": {
       "model_id": "32b52c21cc30498da416beeda9e0d64f"
      }
     },
     "metadata": {},
     "output_type": "display_data"
    },
    {
     "data": {
      "application/vnd.jupyter.widget-view+json": {
       "model_id": "6fc998c0d2c14ee19c735f284047c5d4"
      }
     },
     "metadata": {},
     "output_type": "display_data"
    },
    {
     "data": {
      "application/vnd.jupyter.widget-view+json": {
       "model_id": "d846610c544d4bd8bfaf301fa913e6cb"
      }
     },
     "metadata": {},
     "output_type": "display_data"
    },
    {
     "data": {
      "application/vnd.jupyter.widget-view+json": {
       "model_id": "621c410f1c1240b0ba186f20ac40ef72"
      }
     },
     "metadata": {},
     "output_type": "display_data"
    }
   ],
   "source": [
    "import ray.experimental.ui as ui\n",
    "ui.task_timeline()\n"
   ]
  },
  {
   "cell_type": "code",
   "execution_count": null,
   "metadata": {},
   "outputs": [],
   "source": []
  }
 ],
 "metadata": {
  "kernelspec": {
   "display_name": "Python 3",
   "language": "python",
   "name": "python3"
  },
  "language_info": {
   "codemirror_mode": {
    "name": "ipython",
    "version": 3
   },
   "file_extension": ".py",
   "mimetype": "text/x-python",
   "name": "python",
   "nbconvert_exporter": "python",
   "pygments_lexer": "ipython3",
   "version": "3.6.5"
  }
 },
 "nbformat": 4,
 "nbformat_minor": 2
}
