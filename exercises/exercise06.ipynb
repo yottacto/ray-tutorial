{
 "cells": [
  {
   "cell_type": "markdown",
   "metadata": {},
   "source": [
    "# Exercise 6 - Process Tasks in Order of Completion\n",
    "\n",
    "**GOAL:** The goal of this exercise is to show how to use `ray.wait` to process tasks in the order that they finish.\n",
    "\n",
    "See the documentation for ray.wait at http://ray.readthedocs.io/en/latest/api.html#waiting-for-a-subset-of-tasks-to-finish.\n",
    "\n",
    "The code below runs 10 tasks and retrieves the results in the order that the tasks were launched. However, since each task takes a random amount of time to finish, we could instead process the tasks in the order that they finish."
   ]
  },
  {
   "cell_type": "code",
   "execution_count": 1,
   "metadata": {},
   "outputs": [],
   "source": [
    "from __future__ import absolute_import\n",
    "from __future__ import division\n",
    "from __future__ import print_function\n",
    "\n",
    "import numpy as np\n",
    "import ray\n",
    "import time"
   ]
  },
  {
   "cell_type": "code",
   "execution_count": 2,
   "metadata": {},
   "outputs": [
    {
     "name": "stdout",
     "output_type": "stream",
     "text": [
      "Process STDOUT and STDERR is being redirected to /tmp/raylogs/.\n",
      "Waiting for redis server at 127.0.0.1:38792 to respond...\n",
      "Waiting for redis server at 127.0.0.1:13638 to respond...\n",
      "Starting local scheduler with the following resources: {'CPU': 5, 'GPU': 1}.\n",
      "\n",
      "======================================================================\n",
      "View the web UI at http://localhost:8889/notebooks/ray_ui67310.ipynb?token=2c196938546bbdd0f9bae83ed688da1a8acb816e99e2cbda\n",
      "======================================================================\n",
      "\n"
     ]
    },
    {
     "data": {
      "text/plain": [
       "{'node_ip_address': '127.0.0.1',\n",
       " 'redis_address': '127.0.0.1:38792',\n",
       " 'object_store_addresses': [ObjectStoreAddress(name='/tmp/plasma_store91498578', manager_name='/tmp/plasma_manager54532712', manager_port=53114)],\n",
       " 'local_scheduler_socket_names': ['/tmp/scheduler48699707'],\n",
       " 'webui_url': 'http://localhost:8889/notebooks/ray_ui67310.ipynb?token=2c196938546bbdd0f9bae83ed688da1a8acb816e99e2cbda'}"
      ]
     },
     "execution_count": 2,
     "metadata": {},
     "output_type": "execute_result"
    }
   ],
   "source": [
    "ray.init(num_cpus=5, redirect_output=True)"
   ]
  },
  {
   "cell_type": "code",
   "execution_count": 3,
   "metadata": {},
   "outputs": [],
   "source": [
    "@ray.remote\n",
    "def f():\n",
    "    time.sleep(np.random.uniform(0, 5))\n",
    "    return time.time()"
   ]
  },
  {
   "cell_type": "markdown",
   "metadata": {},
   "source": [
    "**EXERCISE:** Change the code below to use `ray.wait` to get the results of the tasks in the order that they complete.\n",
    "\n",
    "**NOTE:** It would be a simple modification to maintain a pool of 10 experiments and to start a new experiment whenever one finishes."
   ]
  },
  {
   "cell_type": "code",
   "execution_count": 4,
   "metadata": {},
   "outputs": [
    {
     "name": "stdout",
     "output_type": "stream",
     "text": [
      "Processing result which finished after 0.5661187171936035 seconds.\n",
      "Processing result which finished after 1.1098244190216064 seconds.\n",
      "Processing result which finished after 1.7630667686462402 seconds.\n",
      "Processing result which finished after 1.9663851261138916 seconds.\n",
      "Processing result which finished after 2.2949280738830566 seconds.\n",
      "Processing result which finished after 2.677992582321167 seconds.\n",
      "Processing result which finished after 3.3782923221588135 seconds.\n",
      "Processing result which finished after 4.196393728256226 seconds.\n",
      "Processing result which finished after 5.033103704452515 seconds.\n",
      "Processing result which finished after 5.365675926208496 seconds.\n"
     ]
    }
   ],
   "source": [
    "# Sleep a little to improve the accuracy of the timing measurements below.\n",
    "time.sleep(2.0)\n",
    "start_time = time.time()\n",
    "\n",
    "result_ids = [f.remote() for _ in range(10)]\n",
    "\n",
    "# Get the results.\n",
    "results = []\n",
    "\n",
    "remaining_ids = result_ids\n",
    "while remaining_ids:\n",
    "    ready_id, remaining_ids = ray.wait(remaining_ids)\n",
    "    result = ray.get(ready_id[0])\n",
    "    results.append(result)\n",
    "    print('Processing result which finished after {} seconds.'\n",
    "          .format(result - start_time))\n",
    "    \n",
    "# for result_id in result_ids:\n",
    "#     result = ray.get(result_id)\n",
    "#     results.append(result)\n",
    "#     print('Processing result which finished after {} seconds.'\n",
    "#           .format(result - start_time))\n",
    "\n",
    "end_time = time.time()\n",
    "duration = end_time - start_time"
   ]
  },
  {
   "cell_type": "markdown",
   "metadata": {},
   "source": [
    "**VERIFY:** Run some checks to verify that the changes you made to the code were correct. Some of the checks should fail when you initially run the cells. After completing the exercises, the checks should pass."
   ]
  },
  {
   "cell_type": "code",
   "execution_count": 5,
   "metadata": {},
   "outputs": [
    {
     "name": "stdout",
     "output_type": "stream",
     "text": [
      "Success! The example took 5.367706537246704 seconds.\n"
     ]
    }
   ],
   "source": [
    "assert results == sorted(results), ('The results were not processed in the '\n",
    "                                    'order that they finished.')\n",
    "\n",
    "print('Success! The example took {} seconds.'.format(duration))"
   ]
  },
  {
   "cell_type": "code",
   "execution_count": 6,
   "metadata": {},
   "outputs": [
    {
     "name": "stdout",
     "output_type": "stream",
     "text": [
      "To view fullscreen, open chrome://tracing in Google Chrome and load `/tmp/tmpjga7l5il.json`\n"
     ]
    },
    {
     "data": {
      "text/html": [
       "\n",
       "        <iframe\n",
       "            width=\"900\"\n",
       "            height=\"800\"\n",
       "            src=\"tmphllj6nnb.html\"\n",
       "            frameborder=\"0\"\n",
       "            allowfullscreen\n",
       "        ></iframe>\n",
       "        "
      ],
      "text/plain": [
       "<IPython.lib.display.IFrame at 0x7ff9e9fb2550>"
      ]
     },
     "metadata": {},
     "output_type": "display_data"
    }
   ],
   "source": [
    "import ray.experimental.ui as ui\n",
    "ui.task_timeline()\n"
   ]
  },
  {
   "cell_type": "code",
   "execution_count": null,
   "metadata": {},
   "outputs": [],
   "source": []
  }
 ],
 "metadata": {
  "kernelspec": {
   "display_name": "Python 3",
   "language": "python",
   "name": "python3"
  },
  "language_info": {
   "codemirror_mode": {
    "name": "ipython",
    "version": 3
   },
   "file_extension": ".py",
   "mimetype": "text/x-python",
   "name": "python",
   "nbconvert_exporter": "python",
   "pygments_lexer": "ipython3",
   "version": "3.6.5"
  }
 },
 "nbformat": 4,
 "nbformat_minor": 2
}
