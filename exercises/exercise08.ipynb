{
 "cells": [
  {
   "cell_type": "markdown",
   "metadata": {},
   "source": [
    "# Exercise 8 - Actor Handles\n",
    "\n",
    "**GOAL:** The goal of this exercise is to show how to pass around actor handles.\n",
    "\n",
    "Suppose we wish to have multiple tasks invoke methods on the same actor. For example, we may have a single actor that records logging information from a number of tasks. We can achieve this by passing a handle to the actor as an argument into the relevant tasks.\n",
    "\n",
    "### Concepts for this Exercise - Actor  Handles\n",
    "\n",
    "First of all, suppose we've created an actor as follows.\n",
    "\n",
    "```python\n",
    "@ray.remote\n",
    "class Actor(object):\n",
    "    def method(self):\n",
    "        pass\n",
    "\n",
    "# Create the actor\n",
    "actor = Actor.remote()\n",
    "```\n",
    "\n",
    "Then we can define a remote function (or another actor) that takes an actor handle as an argument.\n",
    "\n",
    "```python\n",
    "@ray.remote\n",
    "def f(actor):\n",
    "    # We can invoke methods on the actor.\n",
    "    x_id = actor.method.remote()\n",
    "    # We can block and get the results.\n",
    "    return ray.get(x_id)\n",
    "```\n",
    "\n",
    "Then we can invoke the remote function a few times and pass in the actor handle.\n",
    "\n",
    "```python\n",
    "# Each of the three tasks created below will invoke methods on the same actor.\n",
    "f.remote(actor)\n",
    "f.remote(actor)\n",
    "f.remote(actor)\n",
    "```"
   ]
  },
  {
   "cell_type": "code",
   "execution_count": 1,
   "metadata": {},
   "outputs": [],
   "source": [
    "from __future__ import absolute_import\n",
    "from __future__ import division\n",
    "from __future__ import print_function\n",
    "\n",
    "from collections import defaultdict\n",
    "import ray\n",
    "import time"
   ]
  },
  {
   "cell_type": "code",
   "execution_count": 2,
   "metadata": {},
   "outputs": [
    {
     "name": "stdout",
     "output_type": "stream",
     "text": [
      "Process STDOUT and STDERR is being redirected to /tmp/raylogs/.\n",
      "Waiting for redis server at 127.0.0.1:39043 to respond...\n",
      "Waiting for redis server at 127.0.0.1:16083 to respond...\n",
      "Starting local scheduler with the following resources: {'CPU': 4, 'GPU': 1}.\n",
      "\n",
      "======================================================================\n",
      "View the web UI at http://localhost:8889/notebooks/ray_ui8205.ipynb?token=db3db67c8e8d9877c3e7a0f7a68f8f4f0a44561d1cc12009\n",
      "======================================================================\n",
      "\n"
     ]
    },
    {
     "data": {
      "text/plain": [
       "{'node_ip_address': '127.0.0.1',\n",
       " 'redis_address': '127.0.0.1:39043',\n",
       " 'object_store_addresses': [ObjectStoreAddress(name='/tmp/plasma_store8171025', manager_name='/tmp/plasma_manager77639792', manager_port=16469)],\n",
       " 'local_scheduler_socket_names': ['/tmp/scheduler9961641'],\n",
       " 'webui_url': 'http://localhost:8889/notebooks/ray_ui8205.ipynb?token=db3db67c8e8d9877c3e7a0f7a68f8f4f0a44561d1cc12009'}"
      ]
     },
     "execution_count": 2,
     "metadata": {},
     "output_type": "execute_result"
    }
   ],
   "source": [
    "ray.init(num_cpus=4)"
   ]
  },
  {
   "cell_type": "markdown",
   "metadata": {},
   "source": [
    "In this exercise, we're going to write some code that runs several \"experiments\" in parallel and has each experiment log its results to an actor. The driver script can then periodically pull the results from the logging actor.\n",
    "\n",
    "**EXERCISE:** Turn this `LoggingActor` class into an actor class."
   ]
  },
  {
   "cell_type": "code",
   "execution_count": 4,
   "metadata": {},
   "outputs": [],
   "source": [
    "@ray.remote\n",
    "class LoggingActor(object):\n",
    "    def __init__(self):\n",
    "        self.logs = defaultdict(lambda: [])\n",
    "    \n",
    "    def log(self, index, message):\n",
    "        self.logs[index].append(message)\n",
    "    \n",
    "    def get_logs(self):\n",
    "        return dict(self.logs)\n",
    "\n",
    "\n",
    "assert hasattr(LoggingActor, 'remote'), ('You need to turn LoggingActor into an '\n",
    "                                         'actor (by using the ray.remote keyword).')"
   ]
  },
  {
   "cell_type": "markdown",
   "metadata": {},
   "source": [
    "**EXERCISE:** Instantiate the actor."
   ]
  },
  {
   "cell_type": "code",
   "execution_count": 5,
   "metadata": {},
   "outputs": [],
   "source": [
    "logging_actor = LoggingActor.remote()\n",
    "\n",
    "# Some checks to make sure this was done correctly.\n",
    "assert hasattr(logging_actor, 'get_logs')"
   ]
  },
  {
   "cell_type": "markdown",
   "metadata": {},
   "source": [
    "Now we define a remote function that runs and pushes its logs to the `LoggingActor`.\n",
    "\n",
    "**EXERCISE:** Modify this function so that it invokes methods correctly on `logging_actor` (you need to change the way you call the `log` method)."
   ]
  },
  {
   "cell_type": "code",
   "execution_count": 6,
   "metadata": {},
   "outputs": [],
   "source": [
    "@ray.remote\n",
    "def run_experiment(experiment_index, logging_actor):\n",
    "    for i in range(60):\n",
    "        time.sleep(1)\n",
    "        # Push a logging message to the actor.\n",
    "        logging_actor.log.remote(experiment_index, 'On iteration {}'.format(i))"
   ]
  },
  {
   "cell_type": "markdown",
   "metadata": {},
   "source": [
    "Now we create several tasks that use the logging actor."
   ]
  },
  {
   "cell_type": "code",
   "execution_count": 7,
   "metadata": {},
   "outputs": [],
   "source": [
    "experiment_ids = [run_experiment.remote(i, logging_actor) for i in range(3)]"
   ]
  },
  {
   "cell_type": "markdown",
   "metadata": {},
   "source": [
    "While the experiments are running in the background, the driver process (that is, this Jupyter notebook) can query the actor to read the logs.\n",
    "\n",
    "**EXERCISE:** Modify the code below to dispatch methods to the `LoggingActor`."
   ]
  },
  {
   "cell_type": "code",
   "execution_count": 8,
   "metadata": {},
   "outputs": [
    {
     "name": "stdout",
     "output_type": "stream",
     "text": [
      "{1: ['On iteration 0', 'On iteration 1', 'On iteration 2', 'On iteration 3', 'On iteration 4', 'On iteration 5', 'On iteration 6', 'On iteration 7', 'On iteration 8', 'On iteration 9', 'On iteration 10', 'On iteration 11', 'On iteration 12', 'On iteration 13', 'On iteration 14', 'On iteration 15', 'On iteration 16', 'On iteration 17', 'On iteration 18', 'On iteration 19', 'On iteration 20', 'On iteration 21', 'On iteration 22', 'On iteration 23', 'On iteration 24', 'On iteration 25', 'On iteration 26', 'On iteration 27', 'On iteration 28', 'On iteration 29', 'On iteration 30', 'On iteration 31', 'On iteration 32', 'On iteration 33', 'On iteration 34', 'On iteration 35', 'On iteration 36'], 0: ['On iteration 0', 'On iteration 1', 'On iteration 2', 'On iteration 3', 'On iteration 4', 'On iteration 5', 'On iteration 6', 'On iteration 7', 'On iteration 8', 'On iteration 9', 'On iteration 10', 'On iteration 11', 'On iteration 12', 'On iteration 13', 'On iteration 14', 'On iteration 15', 'On iteration 16', 'On iteration 17', 'On iteration 18', 'On iteration 19', 'On iteration 20', 'On iteration 21', 'On iteration 22', 'On iteration 23', 'On iteration 24', 'On iteration 25', 'On iteration 26', 'On iteration 27', 'On iteration 28', 'On iteration 29', 'On iteration 30', 'On iteration 31', 'On iteration 32', 'On iteration 33', 'On iteration 34', 'On iteration 35', 'On iteration 36'], 2: ['On iteration 0', 'On iteration 1', 'On iteration 2', 'On iteration 3', 'On iteration 4', 'On iteration 5', 'On iteration 6', 'On iteration 7', 'On iteration 8', 'On iteration 9', 'On iteration 10', 'On iteration 11', 'On iteration 12', 'On iteration 13', 'On iteration 14', 'On iteration 15', 'On iteration 16', 'On iteration 17', 'On iteration 18', 'On iteration 19', 'On iteration 20', 'On iteration 21', 'On iteration 22', 'On iteration 23', 'On iteration 24', 'On iteration 25', 'On iteration 26', 'On iteration 27', 'On iteration 28', 'On iteration 29', 'On iteration 30', 'On iteration 31', 'On iteration 32', 'On iteration 33', 'On iteration 34', 'On iteration 35', 'On iteration 36']}\n"
     ]
    }
   ],
   "source": [
    "logs = ray.get(logging_actor.get_logs.remote())\n",
    "print(logs)\n",
    "\n",
    "assert isinstance(logs, dict), (\"Make sure that you dispatch tasks to the \"\n",
    "                                \"actor using the .remote keyword and get the results using ray.get.\")"
   ]
  },
  {
   "cell_type": "markdown",
   "metadata": {},
   "source": [
    "**EXERCISE:** Try running the above box multiple times and see how the results change (while the experiments are still running in the background). You can also try running more of the experiment tasks and see what happens."
   ]
  },
  {
   "cell_type": "code",
   "execution_count": null,
   "metadata": {},
   "outputs": [],
   "source": []
  }
 ],
 "metadata": {
  "kernelspec": {
   "display_name": "Python 3",
   "language": "python",
   "name": "python3"
  },
  "language_info": {
   "codemirror_mode": {
    "name": "ipython",
    "version": 3
   },
   "file_extension": ".py",
   "mimetype": "text/x-python",
   "name": "python",
   "nbconvert_exporter": "python",
   "pygments_lexer": "ipython3",
   "version": "3.6.5"
  }
 },
 "nbformat": 4,
 "nbformat_minor": 2
}
