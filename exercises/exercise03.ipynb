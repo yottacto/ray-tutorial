{
 "cells": [
  {
   "cell_type": "markdown",
   "metadata": {},
   "source": [
    "# Exercise 3 - Tree Reduce\n",
    "\n",
    "**GOAL:** The goal of this exercise is to show how to implement a tree reduce in Ray by passing object IDs into remote functions to encode dependencies between tasks.\n",
    "\n",
    "In this exercise, you will use Ray to implement parallel data generation and a parallel tree reduction."
   ]
  },
  {
   "cell_type": "code",
   "execution_count": 1,
   "metadata": {},
   "outputs": [],
   "source": [
    "from __future__ import absolute_import\n",
    "from __future__ import division\n",
    "from __future__ import print_function\n",
    "\n",
    "import numpy as np\n",
    "import ray\n",
    "import time"
   ]
  },
  {
   "cell_type": "code",
   "execution_count": 2,
   "metadata": {},
   "outputs": [
    {
     "name": "stdout",
     "output_type": "stream",
     "text": [
      "Process STDOUT and STDERR is being redirected to /tmp/raylogs/.\n",
      "Waiting for redis server at 127.0.0.1:62329 to respond...\n",
      "Waiting for redis server at 127.0.0.1:47136 to respond...\n",
      "Starting local scheduler with the following resources: {'CPU': 8, 'GPU': 1}.\n",
      "\n",
      "======================================================================\n",
      "View the web UI at http://localhost:8889/notebooks/ray_ui22902.ipynb?token=2787c5d144051c71d5ccc2f6a688865a4954d1b36a15f0f2\n",
      "======================================================================\n",
      "\n"
     ]
    },
    {
     "data": {
      "text/plain": [
       "{'node_ip_address': '127.0.0.1',\n",
       " 'redis_address': '127.0.0.1:62329',\n",
       " 'object_store_addresses': [ObjectStoreAddress(name='/tmp/plasma_store37303119', manager_name='/tmp/plasma_manager61717119', manager_port=42985)],\n",
       " 'local_scheduler_socket_names': ['/tmp/scheduler24559247'],\n",
       " 'webui_url': 'http://localhost:8889/notebooks/ray_ui22902.ipynb?token=2787c5d144051c71d5ccc2f6a688865a4954d1b36a15f0f2'}"
      ]
     },
     "execution_count": 2,
     "metadata": {},
     "output_type": "execute_result"
    }
   ],
   "source": [
    "ray.init(num_cpus=8, redirect_output=True)"
   ]
  },
  {
   "cell_type": "markdown",
   "metadata": {},
   "source": [
    "**EXERCISE:** These functions will need to be turned into remote functions so that the tree of tasks can be executed in parallel."
   ]
  },
  {
   "cell_type": "code",
   "execution_count": 3,
   "metadata": {},
   "outputs": [],
   "source": [
    "# This is a proxy for a function which generates some data.\n",
    "@ray.remote\n",
    "def create_data(i):\n",
    "    time.sleep(0.3)\n",
    "    return i * np.ones(10000)\n",
    "\n",
    "# This is a proxy for an expensive aggregation step (which is also\n",
    "# commutative and associative so it can be used in a tree-reduce).\n",
    "@ray.remote\n",
    "def aggregate_data(x, y):\n",
    "    time.sleep(0.3)\n",
    "    return x * y"
   ]
  },
  {
   "cell_type": "markdown",
   "metadata": {},
   "source": [
    "**EXERCISE:** Make the data creation tasks run in parallel. Also aggregate the vectors in parallel. Note that the `aggregate_data` function must be called 7 times. They cannot all run in parallel because some depend on the outputs of others. However, it is possible to first run 4 in parallel, then 2 in parallel, and then 1."
   ]
  },
  {
   "cell_type": "code",
   "execution_count": 4,
   "metadata": {},
   "outputs": [
    {
     "name": "stdout",
     "output_type": "stream",
     "text": [
      "sequential time is 4.506756782531738 s\n",
      "time is 1.2142245769500732 s\n"
     ]
    }
   ],
   "source": [
    "# Sleep a little to improve the accuracy of the timing measurements below.\n",
    "time.sleep(2.0)\n",
    "start_time = time.time()\n",
    "\n",
    "# EXERCISE: Here we generate some data. Do this part in parallel.\n",
    "vectors = [create_data.remote(i + 1) for i in range(8)]\n",
    "\n",
    "# Here we aggregate all of the data repeatedly calling aggregate_data. This\n",
    "# can be sped up using Ray.\n",
    "#\n",
    "# NOTE: A direct translation of the code below to use Ray will not result in\n",
    "# a speedup because each function call uses the output of the previous function\n",
    "# call so the function calls must be executed serially.\n",
    "#\n",
    "# EXERCISE: Speed up the aggregation below by using Ray. Note that this will\n",
    "# require restructuring the code to expose more parallelism. First run 4 tasks\n",
    "# aggregating the 8 values in pairs. Then run 2 tasks aggregating the resulting\n",
    "# 4 intermediate values in pairs. then run 1 task aggregating the two resulting\n",
    "# values. Lastly, you will need to call ray.get to retrieve the final result.\n",
    "#\n",
    "# Exposing more parallelism means aggregating the vectors in a DIFFERENT ORDER.\n",
    "# This can be done because we are simply summing the data and the order in\n",
    "# which the values are summed doesn't matter (it's commutative and associative).\n",
    "# result = aggregate_data(vectors[0], vectors[1])\n",
    "# result = aggregate_data(result, vectors[2])\n",
    "# result = aggregate_data(result, vectors[3])\n",
    "# result = aggregate_data(result, vectors[4])\n",
    "# result = aggregate_data(result, vectors[5])\n",
    "# result = aggregate_data(result, vectors[6])\n",
    "# result = aggregate_data(result, vectors[7])\n",
    "\n",
    "while len(vectors) > 1:\n",
    "    vectors.append(aggregate_data.remote(vectors.pop(0), vectors.pop(0)))\n",
    "\n",
    "result = ray.get(vectors)\n",
    "\n",
    "# NOTE: For clarity, the aggregation above is written out as 7 separate function\n",
    "# calls, but this can be done more easily in a while loop via\n",
    "#\n",
    "#     while len(vectors) > 1:\n",
    "#         vectors = aggregate_data(vectors[0], vectors[1]) + vectors[2:]\n",
    "#     result = vectors[0]\n",
    "#\n",
    "# When expressed this way, the change from serial aggregation to tree-structured\n",
    "# aggregation can be made simply by appending the result of aggregate_data to the\n",
    "# end of the vectors list as opposed to the beginning.\n",
    "#\n",
    "# EXERCISE: Think about why this is true.\n",
    "\n",
    "end_time = time.time()\n",
    "duration = end_time - start_time\n",
    "\n",
    "assert np.all(result == 40320 * np.ones(10000)), ('Did you remember to '\n",
    "                                                  'call ray.get?')\n",
    "print('sequential time is 4.506756782531738 s')\n",
    "print('time is {} s'.format(duration))"
   ]
  },
  {
   "cell_type": "markdown",
   "metadata": {},
   "source": [
    "**EXERCISE:** Use the UI to view the task timeline and to verify that the vectors were aggregated with a tree of tasks.\n",
    "\n",
    "You should be able to see the 8 `create_data` tasks running in parallel followed by 4 `aggregate_data` tasks running in parallel followed by 2 more `aggregate_data` tasks followed by 1 more `aggregate_data` task.\n",
    "\n",
    "In the timeline, click on **View Options** and select **Flow Events** to visualize tasks dependencies."
   ]
  },
  {
   "cell_type": "code",
   "execution_count": 6,
   "metadata": {},
   "outputs": [
    {
     "data": {
      "application/vnd.jupyter.widget-view+json": {
       "model_id": "bbc54f828a984d26905087881e38c4a1"
      }
     },
     "metadata": {},
     "output_type": "display_data"
    },
    {
     "data": {
      "application/vnd.jupyter.widget-view+json": {
       "model_id": "5ef76b54131e41e6a35c3f4f50b37202"
      }
     },
     "metadata": {},
     "output_type": "display_data"
    },
    {
     "data": {
      "application/vnd.jupyter.widget-view+json": {
       "model_id": "84b7dd7771744d18927904fed6117cb0"
      }
     },
     "metadata": {},
     "output_type": "display_data"
    },
    {
     "data": {
      "application/vnd.jupyter.widget-view+json": {
       "model_id": "e427e0c1388a4079b175d3967a023d52"
      }
     },
     "metadata": {},
     "output_type": "display_data"
    },
    {
     "data": {
      "application/vnd.jupyter.widget-view+json": {
       "model_id": "48f0cfb0557b4c9191c191aa8b313fad"
      }
     },
     "metadata": {},
     "output_type": "display_data"
    }
   ],
   "source": [
    "import ray.experimental.ui as ui\n",
    "ui.task_timeline()"
   ]
  },
  {
   "cell_type": "markdown",
   "metadata": {},
   "source": [
    "**VERIFY:** Run some checks to verify that the changes you made to the code were correct. Some of the checks should fail when you initially run the cells. After completing the exercises, the checks should pass."
   ]
  },
  {
   "cell_type": "code",
   "execution_count": 7,
   "metadata": {},
   "outputs": [
    {
     "name": "stdout",
     "output_type": "stream",
     "text": [
      "Success! The example took 1.2142245769500732 seconds.\n"
     ]
    }
   ],
   "source": [
    "assert np.all(result == 40320 * np.ones(10000)), ('Did you remember to '\n",
    "                                                  'call ray.get?')\n",
    "assert duration < 0.3 + 0.9 + 0.3, ('FAILURE: The data generation and '\n",
    "                                    'aggregation took {} seconds. This is '\n",
    "                                    'too slow'.format(duration))\n",
    "assert duration > 0.3 + 0.9, ('FAILURE: The data generation and '\n",
    "                              'aggregation took {} seconds. This is '\n",
    "                              'too fast'.format(duration))\n",
    "\n",
    "print('Success! The example took {} seconds.'.format(duration))"
   ]
  },
  {
   "cell_type": "code",
   "execution_count": null,
   "metadata": {},
   "outputs": [],
   "source": []
  }
 ],
 "metadata": {
  "kernelspec": {
   "display_name": "Python 3",
   "language": "python",
   "name": "python3"
  },
  "language_info": {
   "codemirror_mode": {
    "name": "ipython",
    "version": 3
   },
   "file_extension": ".py",
   "mimetype": "text/x-python",
   "name": "python",
   "nbconvert_exporter": "python",
   "pygments_lexer": "ipython3",
   "version": "3.6.5"
  }
 },
 "nbformat": 4,
 "nbformat_minor": 2
}
